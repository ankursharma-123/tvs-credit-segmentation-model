{
 "cells": [
  {
   "cell_type": "code",
   "execution_count": 2,
   "metadata": {},
   "outputs": [],
   "source": [
    "import pandas as pd\n",
    "import numpy as np\n",
    "import matplotlib.pyplot as plt\n",
    "import seaborn as sns\n",
    "import warnings\n",
    "warnings.filterwarnings('ignore')"
   ]
  },
  {
   "cell_type": "code",
   "execution_count": 3,
   "metadata": {},
   "outputs": [],
   "source": [
    "### Loading the data"
   ]
  },
  {
   "cell_type": "code",
   "execution_count": 4,
   "metadata": {},
   "outputs": [],
   "source": [
    "data = pd.read_excel(r\"C:\\Users\\acer\\Downloads\\66bf97f8c00da_epic_fraud_analytics_case_updated.xlsx\")"
   ]
  },
  {
   "cell_type": "code",
   "execution_count": 5,
   "metadata": {},
   "outputs": [
    {
     "data": {
      "text/html": [
       "<div>\n",
       "<style scoped>\n",
       "    .dataframe tbody tr th:only-of-type {\n",
       "        vertical-align: middle;\n",
       "    }\n",
       "\n",
       "    .dataframe tbody tr th {\n",
       "        vertical-align: top;\n",
       "    }\n",
       "\n",
       "    .dataframe thead th {\n",
       "        text-align: right;\n",
       "    }\n",
       "</style>\n",
       "<table border=\"1\" class=\"dataframe\">\n",
       "  <thead>\n",
       "    <tr style=\"text-align: right;\">\n",
       "      <th></th>\n",
       "      <th>DISBMONTH</th>\n",
       "      <th>LOAN_NUMBER</th>\n",
       "      <th>CD_SEGMENT</th>\n",
       "      <th>PRODUCT_CODE</th>\n",
       "      <th>ETC_NTC</th>\n",
       "      <th>PAYMENT_TYPE</th>\n",
       "      <th>CUST_PINCODE</th>\n",
       "      <th>CUST_STATE</th>\n",
       "      <th>MANUFACTURE_CODE</th>\n",
       "      <th>TENUR</th>\n",
       "      <th>...</th>\n",
       "      <th>TOTAL_NO_ENQ</th>\n",
       "      <th>TOTAL_NO_ENQ_LAST_3M</th>\n",
       "      <th>TOTAL_NO_ENQ_CD</th>\n",
       "      <th>TOTAL_NO_ENQ_CD_LAST_3M</th>\n",
       "      <th>TOTAL_NO_ENQ_SEC</th>\n",
       "      <th>TOTAL_NO_ENQ_SEC_LAST_3M</th>\n",
       "      <th>TOTAL_NO_ENQ_UNSEC</th>\n",
       "      <th>TOTAL_NO_ENQ_UNSEC_LAST_3M</th>\n",
       "      <th>BUREAU_SCORE</th>\n",
       "      <th>TARGET_VARIABLE</th>\n",
       "    </tr>\n",
       "  </thead>\n",
       "  <tbody>\n",
       "    <tr>\n",
       "      <th>566097</th>\n",
       "      <td>2023-12-31</td>\n",
       "      <td>566098</td>\n",
       "      <td>Non-Mobile</td>\n",
       "      <td>FRIDGE</td>\n",
       "      <td>NTC</td>\n",
       "      <td>ADM</td>\n",
       "      <td>731238.0</td>\n",
       "      <td>WB</td>\n",
       "      <td>BOSCH</td>\n",
       "      <td>12.0</td>\n",
       "      <td>...</td>\n",
       "      <td>0</td>\n",
       "      <td>0</td>\n",
       "      <td>0</td>\n",
       "      <td>0</td>\n",
       "      <td>0</td>\n",
       "      <td>0</td>\n",
       "      <td>0</td>\n",
       "      <td>0</td>\n",
       "      <td>-1.0</td>\n",
       "      <td>0</td>\n",
       "    </tr>\n",
       "    <tr>\n",
       "      <th>566098</th>\n",
       "      <td>2023-12-31</td>\n",
       "      <td>566099</td>\n",
       "      <td>Non-Mobile</td>\n",
       "      <td>FRIDGE</td>\n",
       "      <td>NTC</td>\n",
       "      <td>ADM</td>\n",
       "      <td>731302.0</td>\n",
       "      <td>WB</td>\n",
       "      <td>CDOEM</td>\n",
       "      <td>10.0</td>\n",
       "      <td>...</td>\n",
       "      <td>0</td>\n",
       "      <td>0</td>\n",
       "      <td>0</td>\n",
       "      <td>0</td>\n",
       "      <td>0</td>\n",
       "      <td>0</td>\n",
       "      <td>0</td>\n",
       "      <td>0</td>\n",
       "      <td>-1.0</td>\n",
       "      <td>0</td>\n",
       "    </tr>\n",
       "    <tr>\n",
       "      <th>566099</th>\n",
       "      <td>2023-12-31</td>\n",
       "      <td>566100</td>\n",
       "      <td>Non-Mobile</td>\n",
       "      <td>FRIDGE</td>\n",
       "      <td>ETC</td>\n",
       "      <td>ADM</td>\n",
       "      <td>742302.0</td>\n",
       "      <td>WB</td>\n",
       "      <td>SAMSUNG</td>\n",
       "      <td>10.0</td>\n",
       "      <td>...</td>\n",
       "      <td>0</td>\n",
       "      <td>0</td>\n",
       "      <td>0</td>\n",
       "      <td>0</td>\n",
       "      <td>0</td>\n",
       "      <td>0</td>\n",
       "      <td>0</td>\n",
       "      <td>0</td>\n",
       "      <td>761.0</td>\n",
       "      <td>0</td>\n",
       "    </tr>\n",
       "    <tr>\n",
       "      <th>566100</th>\n",
       "      <td>2023-12-31</td>\n",
       "      <td>566101</td>\n",
       "      <td>Non-Mobile</td>\n",
       "      <td>FRIDGE</td>\n",
       "      <td>ETC</td>\n",
       "      <td>ENCH</td>\n",
       "      <td>721144.0</td>\n",
       "      <td>WB</td>\n",
       "      <td>CDOEM</td>\n",
       "      <td>10.0</td>\n",
       "      <td>...</td>\n",
       "      <td>30</td>\n",
       "      <td>2</td>\n",
       "      <td>18</td>\n",
       "      <td>0</td>\n",
       "      <td>0</td>\n",
       "      <td>0</td>\n",
       "      <td>24</td>\n",
       "      <td>2</td>\n",
       "      <td>775.0</td>\n",
       "      <td>0</td>\n",
       "    </tr>\n",
       "    <tr>\n",
       "      <th>566101</th>\n",
       "      <td>2023-12-31</td>\n",
       "      <td>566102</td>\n",
       "      <td>Non-Mobile</td>\n",
       "      <td>TV</td>\n",
       "      <td>NTC</td>\n",
       "      <td>ADM</td>\n",
       "      <td>734010.0</td>\n",
       "      <td>WB</td>\n",
       "      <td>HAIER</td>\n",
       "      <td>8.0</td>\n",
       "      <td>...</td>\n",
       "      <td>0</td>\n",
       "      <td>0</td>\n",
       "      <td>0</td>\n",
       "      <td>0</td>\n",
       "      <td>0</td>\n",
       "      <td>0</td>\n",
       "      <td>0</td>\n",
       "      <td>0</td>\n",
       "      <td>NaN</td>\n",
       "      <td>0</td>\n",
       "    </tr>\n",
       "  </tbody>\n",
       "</table>\n",
       "<p>5 rows × 49 columns</p>\n",
       "</div>"
      ],
      "text/plain": [
       "        DISBMONTH  LOAN_NUMBER  CD_SEGMENT PRODUCT_CODE ETC_NTC PAYMENT_TYPE  \\\n",
       "566097 2023-12-31       566098  Non-Mobile       FRIDGE     NTC          ADM   \n",
       "566098 2023-12-31       566099  Non-Mobile       FRIDGE     NTC          ADM   \n",
       "566099 2023-12-31       566100  Non-Mobile       FRIDGE     ETC          ADM   \n",
       "566100 2023-12-31       566101  Non-Mobile       FRIDGE     ETC         ENCH   \n",
       "566101 2023-12-31       566102  Non-Mobile           TV     NTC          ADM   \n",
       "\n",
       "        CUST_PINCODE CUST_STATE MANUFACTURE_CODE  TENUR  ...  TOTAL_NO_ENQ  \\\n",
       "566097      731238.0         WB            BOSCH   12.0  ...             0   \n",
       "566098      731302.0         WB            CDOEM   10.0  ...             0   \n",
       "566099      742302.0         WB          SAMSUNG   10.0  ...             0   \n",
       "566100      721144.0         WB            CDOEM   10.0  ...            30   \n",
       "566101      734010.0         WB            HAIER    8.0  ...             0   \n",
       "\n",
       "        TOTAL_NO_ENQ_LAST_3M  TOTAL_NO_ENQ_CD  TOTAL_NO_ENQ_CD_LAST_3M  \\\n",
       "566097                     0                0                        0   \n",
       "566098                     0                0                        0   \n",
       "566099                     0                0                        0   \n",
       "566100                     2               18                        0   \n",
       "566101                     0                0                        0   \n",
       "\n",
       "        TOTAL_NO_ENQ_SEC  TOTAL_NO_ENQ_SEC_LAST_3M TOTAL_NO_ENQ_UNSEC  \\\n",
       "566097                 0                         0                  0   \n",
       "566098                 0                         0                  0   \n",
       "566099                 0                         0                  0   \n",
       "566100                 0                         0                 24   \n",
       "566101                 0                         0                  0   \n",
       "\n",
       "       TOTAL_NO_ENQ_UNSEC_LAST_3M BUREAU_SCORE TARGET_VARIABLE  \n",
       "566097                          0         -1.0               0  \n",
       "566098                          0         -1.0               0  \n",
       "566099                          0        761.0               0  \n",
       "566100                          2        775.0               0  \n",
       "566101                          0          NaN               0  \n",
       "\n",
       "[5 rows x 49 columns]"
      ]
     },
     "execution_count": 5,
     "metadata": {},
     "output_type": "execute_result"
    }
   ],
   "source": [
    "data.tail()"
   ]
  },
  {
   "cell_type": "code",
   "execution_count": 6,
   "metadata": {},
   "outputs": [
    {
     "name": "stdout",
     "output_type": "stream",
     "text": [
      "<class 'pandas.core.frame.DataFrame'>\n",
      "RangeIndex: 566102 entries, 0 to 566101\n",
      "Data columns (total 49 columns):\n",
      " #   Column                         Non-Null Count   Dtype         \n",
      "---  ------                         --------------   -----         \n",
      " 0   DISBMONTH                      566102 non-null  datetime64[ns]\n",
      " 1   LOAN_NUMBER                    566102 non-null  int64         \n",
      " 2   CD_SEGMENT                     566102 non-null  object        \n",
      " 3   PRODUCT_CODE                   566100 non-null  object        \n",
      " 4   ETC_NTC                        566102 non-null  object        \n",
      " 5   PAYMENT_TYPE                   566100 non-null  object        \n",
      " 6   CUST_PINCODE                   566099 non-null  float64       \n",
      " 7   CUST_STATE                     566102 non-null  object        \n",
      " 8   MANUFACTURE_CODE               566100 non-null  object        \n",
      " 9   TENUR                          566100 non-null  float64       \n",
      " 10  ADVANCE_EMI_COUNT              566100 non-null  float64       \n",
      " 11  EMI                            566100 non-null  float64       \n",
      " 12  LTV                            566100 non-null  float64       \n",
      " 13  ASSET_COST                     566100 non-null  float64       \n",
      " 14  ACTUAL_LOAN_AMOUNT             566089 non-null  float64       \n",
      " 15  DOWN_PAYMENT                   566100 non-null  float64       \n",
      " 16  PAYNIMO_STATUS                 486124 non-null  object        \n",
      " 17  QUALIFICATION                  563119 non-null  object        \n",
      " 18  GENDER                         566100 non-null  object        \n",
      " 19  MARITALSTATUS                  566100 non-null  object        \n",
      " 20  CUST_AGE                       566093 non-null  float64       \n",
      " 21  EMP_GRP                        566102 non-null  object        \n",
      " 22  MATCH_SCORE                    223623 non-null  float64       \n",
      " 23  TOTAL_NO_LV_TRADELINES         566102 non-null  int64         \n",
      " 24  BUREAU_VINTAGE_IN_MONTHS       566102 non-null  int64         \n",
      " 25  NO_TRADELINES_OPENED_LAST_3M   566102 non-null  int64         \n",
      " 26  TOTAL_NO_LV_CD                 566102 non-null  int64         \n",
      " 27  TIME_SINCE_FIRST_CD_MONTHS     566102 non-null  int64         \n",
      " 28  NO_CD_OPENED_LAST_3M           566102 non-null  int64         \n",
      " 29  TOTAL_NO_LV_CC                 566102 non-null  int64         \n",
      " 30  NO_CC_OPENED_LAST_3M           566102 non-null  int64         \n",
      " 31  TOTAL_NO_LV_PLBL               566102 non-null  int64         \n",
      " 32  TOTAL_NO_LV_AL                 566102 non-null  int64         \n",
      " 33  TOTAL_NO_LV_TW                 566102 non-null  int64         \n",
      " 34  TOTAL_NO_LV_TL                 566102 non-null  int64         \n",
      " 35  TOTAL_NO_LV_SEC                566102 non-null  int64         \n",
      " 36  TOTAL_NO_SEC_OPENED_LAST_3M    566102 non-null  int64         \n",
      " 37  TOTAL_NO_LV_UNSEC              566102 non-null  int64         \n",
      " 38  TOTAL_NO_UNSEC_OPENED_LAST_3M  566102 non-null  int64         \n",
      " 39  TOTAL_NO_ENQ                   566102 non-null  int64         \n",
      " 40  TOTAL_NO_ENQ_LAST_3M           566102 non-null  int64         \n",
      " 41  TOTAL_NO_ENQ_CD                566102 non-null  int64         \n",
      " 42  TOTAL_NO_ENQ_CD_LAST_3M        566102 non-null  int64         \n",
      " 43  TOTAL_NO_ENQ_SEC               566102 non-null  int64         \n",
      " 44  TOTAL_NO_ENQ_SEC_LAST_3M       566102 non-null  int64         \n",
      " 45  TOTAL_NO_ENQ_UNSEC             566102 non-null  int64         \n",
      " 46  TOTAL_NO_ENQ_UNSEC_LAST_3M     566102 non-null  int64         \n",
      " 47  BUREAU_SCORE                   498824 non-null  float64       \n",
      " 48  TARGET_VARIABLE                566102 non-null  int64         \n",
      "dtypes: datetime64[ns](1), float64(11), int64(26), object(11)\n",
      "memory usage: 211.6+ MB\n"
     ]
    }
   ],
   "source": [
    "data.info()"
   ]
  },
  {
   "cell_type": "code",
   "execution_count": 7,
   "metadata": {},
   "outputs": [
    {
     "data": {
      "text/plain": [
       "DISBMONTH                            15\n",
       "LOAN_NUMBER                      566102\n",
       "CD_SEGMENT                            2\n",
       "PRODUCT_CODE                         15\n",
       "ETC_NTC                               2\n",
       "PAYMENT_TYPE                          4\n",
       "CUST_PINCODE                      13191\n",
       "CUST_STATE                           23\n",
       "MANUFACTURE_CODE                     48\n",
       "TENUR                                26\n",
       "ADVANCE_EMI_COUNT                     8\n",
       "EMI                                5921\n",
       "LTV                                6134\n",
       "ASSET_COST                         4558\n",
       "ACTUAL_LOAN_AMOUNT                28468\n",
       "DOWN_PAYMENT                      22571\n",
       "PAYNIMO_STATUS                        4\n",
       "QUALIFICATION                        22\n",
       "GENDER                                2\n",
       "MARITALSTATUS                         3\n",
       "CUST_AGE                             45\n",
       "EMP_GRP                               6\n",
       "MATCH_SCORE                         101\n",
       "TOTAL_NO_LV_TRADELINES               56\n",
       "BUREAU_VINTAGE_IN_MONTHS            357\n",
       "NO_TRADELINES_OPENED_LAST_3M         52\n",
       "TOTAL_NO_LV_CD                       23\n",
       "TIME_SINCE_FIRST_CD_MONTHS          266\n",
       "NO_CD_OPENED_LAST_3M                 12\n",
       "TOTAL_NO_LV_CC                       18\n",
       "NO_CC_OPENED_LAST_3M                  5\n",
       "TOTAL_NO_LV_PLBL                     43\n",
       "TOTAL_NO_LV_AL                       10\n",
       "TOTAL_NO_LV_TW                        7\n",
       "TOTAL_NO_LV_TL                        6\n",
       "TOTAL_NO_LV_SEC                      32\n",
       "TOTAL_NO_SEC_OPENED_LAST_3M          38\n",
       "TOTAL_NO_LV_UNSEC                    48\n",
       "TOTAL_NO_UNSEC_OPENED_LAST_3M        44\n",
       "TOTAL_NO_ENQ                        183\n",
       "TOTAL_NO_ENQ_LAST_3M                 62\n",
       "TOTAL_NO_ENQ_CD                      70\n",
       "TOTAL_NO_ENQ_CD_LAST_3M              33\n",
       "TOTAL_NO_ENQ_SEC                     45\n",
       "TOTAL_NO_ENQ_SEC_LAST_3M             20\n",
       "TOTAL_NO_ENQ_UNSEC                  168\n",
       "TOTAL_NO_ENQ_UNSEC_LAST_3M           59\n",
       "BUREAU_SCORE                        207\n",
       "TARGET_VARIABLE                       2\n",
       "dtype: int64"
      ]
     },
     "execution_count": 7,
     "metadata": {},
     "output_type": "execute_result"
    }
   ],
   "source": [
    "data.nunique()"
   ]
  },
  {
   "cell_type": "code",
   "execution_count": 8,
   "metadata": {},
   "outputs": [
    {
     "data": {
      "text/plain": [
       "0"
      ]
     },
     "execution_count": 8,
     "metadata": {},
     "output_type": "execute_result"
    }
   ],
   "source": [
    "data.isnull().sum()[0]"
   ]
  },
  {
   "cell_type": "code",
   "execution_count": 9,
   "metadata": {},
   "outputs": [
    {
     "name": "stdout",
     "output_type": "stream",
     "text": [
      "0         MOBILE\n",
      "1         MOBILE\n",
      "2         MOBILE\n",
      "3         MOBILE\n",
      "4         MOBILE\n",
      "           ...  \n",
      "566097    FRIDGE\n",
      "566098    FRIDGE\n",
      "566099    FRIDGE\n",
      "566100    FRIDGE\n",
      "566101        TV\n",
      "Name: PRODUCT_CODE, Length: 566102, dtype: object\n"
     ]
    }
   ],
   "source": [
    "print(data['PRODUCT_CODE'])"
   ]
  },
  {
   "cell_type": "code",
   "execution_count": 10,
   "metadata": {},
   "outputs": [],
   "source": [
    "from sklearn.impute import SimpleImputer\n",
    "imputer = SimpleImputer(strategy='most_frequent')\n",
    "data['PRODUCT_CODE'] = imputer.fit_transform(data[['PRODUCT_CODE']]).ravel()"
   ]
  },
  {
   "cell_type": "code",
   "execution_count": 11,
   "metadata": {},
   "outputs": [],
   "source": [
    "from sklearn.impute import SimpleImputer\n",
    "imputer = SimpleImputer(strategy='most_frequent')\n",
    "data['PAYMENT_TYPE'] = imputer.fit_transform(data[['PAYMENT_TYPE']]).ravel()"
   ]
  },
  {
   "cell_type": "code",
   "execution_count": 12,
   "metadata": {},
   "outputs": [],
   "source": [
    "imputerNum = SimpleImputer(strategy='mean')\n",
    "columns = data.columns\n",
    "dtypes = data.dtypes\n",
    "for i in range(1,49):\n",
    "    x = columns[i]\n",
    "    typ = dtypes[i]\n",
    "    # print(typ)\n",
    "    if(data.isnull().sum()[i]>0):\n",
    "        if(typ=='int64' or typ=='float64'):data[x] = imputerNum.fit_transform(data[[x]]).ravel()\n",
    "        else: data[x] = imputer.fit_transform(data[[x]]).ravel()"
   ]
  },
  {
   "cell_type": "code",
   "execution_count": 13,
   "metadata": {},
   "outputs": [
    {
     "data": {
      "text/plain": [
       "DISBMONTH                        0.0\n",
       "LOAN_NUMBER                      0.0\n",
       "CD_SEGMENT                       0.0\n",
       "PRODUCT_CODE                     0.0\n",
       "ETC_NTC                          0.0\n",
       "PAYMENT_TYPE                     0.0\n",
       "CUST_PINCODE                     0.0\n",
       "CUST_STATE                       0.0\n",
       "MANUFACTURE_CODE                 0.0\n",
       "TENUR                            0.0\n",
       "ADVANCE_EMI_COUNT                0.0\n",
       "EMI                              0.0\n",
       "LTV                              0.0\n",
       "ASSET_COST                       0.0\n",
       "ACTUAL_LOAN_AMOUNT               0.0\n",
       "DOWN_PAYMENT                     0.0\n",
       "PAYNIMO_STATUS                   0.0\n",
       "QUALIFICATION                    0.0\n",
       "GENDER                           0.0\n",
       "MARITALSTATUS                    0.0\n",
       "CUST_AGE                         0.0\n",
       "EMP_GRP                          0.0\n",
       "MATCH_SCORE                      0.0\n",
       "TOTAL_NO_LV_TRADELINES           0.0\n",
       "BUREAU_VINTAGE_IN_MONTHS         0.0\n",
       "NO_TRADELINES_OPENED_LAST_3M     0.0\n",
       "TOTAL_NO_LV_CD                   0.0\n",
       "TIME_SINCE_FIRST_CD_MONTHS       0.0\n",
       "NO_CD_OPENED_LAST_3M             0.0\n",
       "TOTAL_NO_LV_CC                   0.0\n",
       "NO_CC_OPENED_LAST_3M             0.0\n",
       "TOTAL_NO_LV_PLBL                 0.0\n",
       "TOTAL_NO_LV_AL                   0.0\n",
       "TOTAL_NO_LV_TW                   0.0\n",
       "TOTAL_NO_LV_TL                   0.0\n",
       "TOTAL_NO_LV_SEC                  0.0\n",
       "TOTAL_NO_SEC_OPENED_LAST_3M      0.0\n",
       "TOTAL_NO_LV_UNSEC                0.0\n",
       "TOTAL_NO_UNSEC_OPENED_LAST_3M    0.0\n",
       "TOTAL_NO_ENQ                     0.0\n",
       "TOTAL_NO_ENQ_LAST_3M             0.0\n",
       "TOTAL_NO_ENQ_CD                  0.0\n",
       "TOTAL_NO_ENQ_CD_LAST_3M          0.0\n",
       "TOTAL_NO_ENQ_SEC                 0.0\n",
       "TOTAL_NO_ENQ_SEC_LAST_3M         0.0\n",
       "TOTAL_NO_ENQ_UNSEC               0.0\n",
       "TOTAL_NO_ENQ_UNSEC_LAST_3M       0.0\n",
       "BUREAU_SCORE                     0.0\n",
       "TARGET_VARIABLE                  0.0\n",
       "dtype: float64"
      ]
     },
     "execution_count": 13,
     "metadata": {},
     "output_type": "execute_result"
    }
   ],
   "source": [
    "(data.isnull().sum()/(len(data)))*100"
   ]
  },
  {
   "cell_type": "code",
   "execution_count": 14,
   "metadata": {},
   "outputs": [
    {
     "data": {
      "text/plain": [
       "TARGET_VARIABLE\n",
       "0    548322\n",
       "1     17780\n",
       "Name: count, dtype: int64"
      ]
     },
     "execution_count": 14,
     "metadata": {},
     "output_type": "execute_result"
    }
   ],
   "source": [
    "data['TARGET_VARIABLE'].value_counts()\n"
   ]
  },
  {
   "cell_type": "code",
   "execution_count": 15,
   "metadata": {},
   "outputs": [
    {
     "data": {
      "image/png": "[encoded data removed]",
      "text/plain": [
       "<Figure size 800x800 with 1 Axes>"
      ]
     },
     "metadata": {},
     "output_type": "display_data"
    }
   ],
   "source": [
    "type = data['PAYMENT_TYPE'].value_counts()\n",
    "transaction = type.index\n",
    "count = type.values\n",
    "\n",
    "# drawing piechart\n",
    "plt.figure(figsize=(8,8))\n",
    "plt.pie(count, labels=transaction, autopct='%1.0f%%')\n",
    "plt.legend(loc='upper left')\n",
    "plt.show()"
   ]
  },
  {
   "cell_type": "code",
   "execution_count": 16,
   "metadata": {},
   "outputs": [
    {
     "data": {
      "image/png": "[encoded data removed]",
      "text/plain": [
       "<Figure size 1200x800 with 1 Axes>"
      ]
     },
     "metadata": {},
     "output_type": "display_data"
    }
   ],
   "source": [
    "plt.figure(figsize=(12,8))\n",
    "ax=sns.countplot(x = \"PAYMENT_TYPE\", hue=\"TARGET_VARIABLE\", data = data)\n",
    "plt.title('Types of Transaction nonFraud and Fraud')\n",
    "for p in ax.patches:\n",
    "        ax.annotate('{:.1f}'.format(p.get_height()), (p.get_x()+0.1, p.get_height()+50))"
   ]
  },
  {
   "cell_type": "code",
   "execution_count": 17,
   "metadata": {},
   "outputs": [],
   "source": [
    "from sklearn.decomposition import PCA\n",
    "from sklearn.preprocessing import OneHotEncoder\n",
    "from sklearn.compose import ColumnTransformer\n",
    "numeric_columns = data.select_dtypes(include=['int64', 'float64']).columns\n",
    "categorical_columns = data.select_dtypes(exclude=['int64', 'float64']).columns\n",
    "column_transformer = ColumnTransformer(\n",
    "    transformers=[\n",
    "        ('cat', OneHotEncoder(), categorical_columns)\n",
    "    ],\n",
    "    remainder='passthrough'\n",
    ")\n",
    "transformed_data = column_transformer.fit_transform(data)"
   ]
  },
  {
   "cell_type": "code",
   "execution_count": 35,
   "metadata": {},
   "outputs": [
    {
     "name": "stdout",
     "output_type": "stream",
     "text": [
      "                0         1         2         3         4         5         6  \\\n",
      "0       -1.968797  2.394271 -1.267903 -0.190327 -0.377481  0.474230  0.368990   \n",
      "1        1.966596  2.373173 -1.921758 -1.563729 -2.406999  1.115842 -0.215967   \n",
      "2       -0.160010  2.185514  0.570370 -1.060636 -0.798830  0.849622  0.888990   \n",
      "3        1.894060  2.673511 -2.080563  0.742767  0.028235  1.631148 -0.241399   \n",
      "4        2.511622  2.504553 -1.267301 -3.102436  2.572441  0.145496  2.955346   \n",
      "...           ...       ...       ...       ...       ...       ...       ...   \n",
      "566097  -1.597149  1.919469  4.589283 -0.550522 -0.531295  0.583744  0.307239   \n",
      "566098  -1.780755  1.765053  2.298109 -0.217597 -0.540072  0.669529  0.426836   \n",
      "566099  -1.244796  2.057789 -0.171804 -1.236713  0.769016  1.005662 -1.284428   \n",
      "566100  13.014849  1.792355  2.212902 -0.957521 -1.474225  6.554204 -0.954253   \n",
      "566101  -1.411727  1.697151 -0.732906 -1.803661 -1.252319  1.228073  0.011023   \n",
      "\n",
      "               7         8         9  TARGET_VARIABLE  \n",
      "0      -0.408329 -0.107264  2.083481                0  \n",
      "1       1.505388 -0.425576  0.902340                0  \n",
      "2      -0.459414 -1.907154  0.725506                0  \n",
      "3       1.687302 -2.838086 -0.960601                0  \n",
      "4       2.047024  0.473506  3.775342                0  \n",
      "...          ...       ...       ...              ...  \n",
      "566097 -0.213809  1.259492  0.059683                0  \n",
      "566098 -0.136584  1.656919 -0.484950                0  \n",
      "566099  0.553880  2.786455 -0.606719                0  \n",
      "566100 -9.594053 -0.675167 -4.773126                0  \n",
      "566101  0.131872  2.766668 -1.290079                0  \n",
      "\n",
      "[566102 rows x 11 columns]\n"
     ]
    }
   ],
   "source": [
    "from scipy.sparse import csr_matrix\n",
    "from sklearn.decomposition import TruncatedSVD\n",
    "from sklearn.preprocessing import StandardScaler, OneHotEncoder\n",
    "from sklearn.pipeline import Pipeline\n",
    "\n",
    "\n",
    "numeric_features = data.select_dtypes(include=['int64', 'float64']).columns\n",
    "categorical_features = data.select_dtypes(include=['object']).columns\n",
    "numeric_features.drop('TARGET_VARIABLE')\n",
    "\n",
    "preprocessor = ColumnTransformer(\n",
    "    transformers=[\n",
    "        ('num', StandardScaler(), numeric_features),\n",
    "        ('cat', OneHotEncoder(), categorical_features)\n",
    "    ]\n",
    ")\n",
    "\n",
    "\n",
    "pipeline = Pipeline(steps=[\n",
    "    ('preprocessor', preprocessor),\n",
    "    ('svd', TruncatedSVD(n_components=10))\n",
    "])\n",
    "\n",
    "\n",
    "svd_result = pipeline.fit_transform(data)\n",
    "\n",
    "svd_df = pd.DataFrame(data=svd_result)\n",
    "svd_df['TARGET_VARIABLE'] = data['TARGET_VARIABLE']\n",
    "\n",
    "print(svd_df)"
   ]
  },
  {
   "cell_type": "code",
   "execution_count": 36,
   "metadata": {},
   "outputs": [
    {
     "name": "stdout",
     "output_type": "stream",
     "text": [
      "                0         1         2         3         4         5         6  \\\n",
      "0       -1.968797  2.394271 -1.267903 -0.190327 -0.377481  0.474230  0.368990   \n",
      "1        1.966596  2.373173 -1.921758 -1.563729 -2.406999  1.115842 -0.215967   \n",
      "2       -0.160010  2.185514  0.570370 -1.060636 -0.798830  0.849622  0.888990   \n",
      "3        1.894060  2.673511 -2.080563  0.742767  0.028235  1.631148 -0.241399   \n",
      "4        2.511622  2.504553 -1.267301 -3.102436  2.572441  0.145496  2.955346   \n",
      "...           ...       ...       ...       ...       ...       ...       ...   \n",
      "566097  -1.597149  1.919469  4.589283 -0.550522 -0.531295  0.583744  0.307239   \n",
      "566098  -1.780755  1.765053  2.298109 -0.217597 -0.540072  0.669529  0.426836   \n",
      "566099  -1.244796  2.057789 -0.171804 -1.236713  0.769016  1.005662 -1.284428   \n",
      "566100  13.014849  1.792355  2.212902 -0.957521 -1.474225  6.554204 -0.954253   \n",
      "566101  -1.411727  1.697151 -0.732906 -1.803661 -1.252319  1.228073  0.011023   \n",
      "\n",
      "               7         8         9  \n",
      "0      -0.408329 -0.107264  2.083481  \n",
      "1       1.505388 -0.425576  0.902340  \n",
      "2      -0.459414 -1.907154  0.725506  \n",
      "3       1.687302 -2.838086 -0.960601  \n",
      "4       2.047024  0.473506  3.775342  \n",
      "...          ...       ...       ...  \n",
      "566097 -0.213809  1.259492  0.059683  \n",
      "566098 -0.136584  1.656919 -0.484950  \n",
      "566099  0.553880  2.786455 -0.606719  \n",
      "566100 -9.594053 -0.675167 -4.773126  \n",
      "566101  0.131872  2.766668 -1.290079  \n",
      "\n",
      "[566102 rows x 10 columns]\n"
     ]
    }
   ],
   "source": [
    "svd_df['TARGET_VARIABLE'] = data['TARGET_VARIABLE']\n",
    "newdata = svd_df.drop(columns=['TARGET_VARIABLE'])\n",
    "print(newdata)"
   ]
  },
  {
   "cell_type": "code",
   "execution_count": 22,
   "metadata": {},
   "outputs": [
    {
     "data": {
      "text/plain": [
       "Index(['LOAN_NUMBER', 'CUST_PINCODE', 'TENUR', 'ADVANCE_EMI_COUNT', 'EMI',\n",
       "       'LTV', 'ASSET_COST', 'ACTUAL_LOAN_AMOUNT', 'DOWN_PAYMENT', 'CUST_AGE',\n",
       "       'MATCH_SCORE', 'TOTAL_NO_LV_TRADELINES', 'BUREAU_VINTAGE_IN_MONTHS',\n",
       "       'NO_TRADELINES_OPENED_LAST_3M', 'TOTAL_NO_LV_CD',\n",
       "       'TIME_SINCE_FIRST_CD_MONTHS', 'NO_CD_OPENED_LAST_3M', 'TOTAL_NO_LV_CC',\n",
       "       'NO_CC_OPENED_LAST_3M', 'TOTAL_NO_LV_PLBL', 'TOTAL_NO_LV_AL',\n",
       "       'TOTAL_NO_LV_TW', 'TOTAL_NO_LV_TL', 'TOTAL_NO_LV_SEC',\n",
       "       'TOTAL_NO_SEC_OPENED_LAST_3M', 'TOTAL_NO_LV_UNSEC',\n",
       "       'TOTAL_NO_UNSEC_OPENED_LAST_3M', 'TOTAL_NO_ENQ', 'TOTAL_NO_ENQ_LAST_3M',\n",
       "       'TOTAL_NO_ENQ_CD', 'TOTAL_NO_ENQ_CD_LAST_3M', 'TOTAL_NO_ENQ_SEC',\n",
       "       'TOTAL_NO_ENQ_SEC_LAST_3M', 'TOTAL_NO_ENQ_UNSEC',\n",
       "       'TOTAL_NO_ENQ_UNSEC_LAST_3M', 'BUREAU_SCORE'],\n",
       "      dtype='object')"
      ]
     },
     "execution_count": 22,
     "metadata": {},
     "output_type": "execute_result"
    }
   ],
   "source": [
    "numeric_features.drop('TARGET_VARIABLE')"
   ]
  },
  {
   "cell_type": "code",
   "execution_count": 23,
   "metadata": {},
   "outputs": [
    {
     "name": "stdout",
     "output_type": "stream",
     "text": [
      "Accuracy: 1.0\n",
      "Classification Report:\n",
      "              precision    recall  f1-score   support\n",
      "\n",
      "           0       1.00      1.00      1.00    164472\n",
      "           1       1.00      1.00      1.00      5359\n",
      "\n",
      "    accuracy                           1.00    169831\n",
      "   macro avg       1.00      1.00      1.00    169831\n",
      "weighted avg       1.00      1.00      1.00    169831\n",
      "\n"
     ]
    }
   ],
   "source": [
    "import pandas as pd\n",
    "from sklearn.decomposition import TruncatedSVD\n",
    "from sklearn.preprocessing import StandardScaler, OneHotEncoder\n",
    "from sklearn.compose import ColumnTransformer\n",
    "from sklearn.pipeline import Pipeline\n",
    "from sklearn.linear_model import LogisticRegression\n",
    "from sklearn.model_selection import train_test_split\n",
    "from sklearn.metrics import classification_report, accuracy_score\n",
    "\n",
    "\n",
    "\n",
    "X = newdata\n",
    "y = data['TARGET_VARIABLE'] \n",
    "\n",
    "X_train, X_test, y_train, y_test = train_test_split(X, y, test_size=0.3, random_state=42)\n",
    "\n",
    "\n",
    "model = LogisticRegression()\n",
    "model.fit(X_train, y_train)\n",
    "y_pred = model.predict(X_test)\n",
    "\n",
    "print(\"Accuracy:\", accuracy_score(y_test, y_pred))\n",
    "print(\"Classification Report:\")\n",
    "print(classification_report(y_test, y_pred))\n"
   ]
  },
  {
   "cell_type": "code",
   "execution_count": 25,
   "metadata": {},
   "outputs": [
    {
     "name": "stdout",
     "output_type": "stream",
     "text": [
      "Accuracy: 0.982347156879486\n",
      "Classification Report:\n",
      "              precision    recall  f1-score   support\n",
      "\n",
      "           0       0.99      0.99      0.99    164472\n",
      "           1       0.79      0.60      0.68      5359\n",
      "\n",
      "    accuracy                           0.98    169831\n",
      "   macro avg       0.89      0.80      0.84    169831\n",
      "weighted avg       0.98      0.98      0.98    169831\n",
      "\n"
     ]
    }
   ],
   "source": [
    "import pandas as pd\n",
    "from sklearn.decomposition import TruncatedSVD\n",
    "from sklearn.preprocessing import StandardScaler, OneHotEncoder\n",
    "from sklearn.compose import ColumnTransformer\n",
    "from sklearn.pipeline import Pipeline\n",
    "from sklearn.linear_model import LogisticRegression\n",
    "from sklearn.model_selection import train_test_split\n",
    "from sklearn.metrics import classification_report, accuracy_score\n",
    "\n",
    "\n",
    "X = newdata \n",
    "y = data['TARGET_VARIABLE']  \n",
    "\n",
    "\n",
    "X_train, X_test, y_train, y_test = train_test_split(X, y, test_size=0.3, random_state=42)\n",
    "\n",
    "\n",
    "preprocessor = ColumnTransformer(\n",
    "    transformers=[\n",
    "        ('num', StandardScaler(), X_train.select_dtypes(include=['int64', 'float64']).columns),\n",
    "        ('cat', OneHotEncoder(), X_train.select_dtypes(include=['object']).columns)\n",
    "    ]\n",
    ")\n",
    "\n",
    "\n",
    "pipeline = Pipeline(steps=[\n",
    "    ('preprocessor', preprocessor),\n",
    "    ('svd', TruncatedSVD(n_components=15)),\n",
    "    ('classifier', LogisticRegression())\n",
    "])\n",
    "\n",
    "\n",
    "pipeline.fit(X_train, y_train)\n",
    "\n",
    "\n",
    "y_pred = pipeline.predict(X_test)\n",
    "\n",
    "\n",
    "print(\"Accuracy:\", accuracy_score(y_test, y_pred))\n",
    "print(\"Classification Report:\")\n",
    "print(classification_report(y_test, y_pred))\n"
   ]
  },
  {
   "cell_type": "code",
   "execution_count": 34,
   "metadata": {},
   "outputs": [
    {
     "name": "stdout",
     "output_type": "stream",
     "text": [
      "Accuracy: 0.9882235869776425\n",
      "Classification Report:\n",
      "              precision    recall  f1-score   support\n",
      "\n",
      "           0       0.99      1.00      0.99    164472\n",
      "           1       0.88      0.73      0.80      5359\n",
      "\n",
      "    accuracy                           0.99    169831\n",
      "   macro avg       0.94      0.86      0.89    169831\n",
      "weighted avg       0.99      0.99      0.99    169831\n",
      "\n"
     ]
    }
   ],
   "source": [
    "import pandas as pd\n",
    "from sklearn.decomposition import TruncatedSVD\n",
    "from sklearn.preprocessing import StandardScaler, OneHotEncoder\n",
    "from sklearn.compose import ColumnTransformer\n",
    "from sklearn.pipeline import Pipeline\n",
    "from sklearn.model_selection import train_test_split\n",
    "from sklearn.metrics import classification_report, accuracy_score\n",
    "from xgboost import XGBClassifier \n",
    "\n",
    "\n",
    "X = newdata \n",
    "y = data['TARGET_VARIABLE']  \n",
    "\n",
    "X_train, X_test, y_train, y_test = train_test_split(X, y, test_size=0.3, random_state=42)\n",
    "\n",
    "\n",
    "preprocessor = ColumnTransformer(\n",
    "    transformers=[\n",
    "        ('num', StandardScaler(), X_train.select_dtypes(include=['int64', 'float64']).columns),\n",
    "        ('cat', OneHotEncoder(handle_unknown='ignore'), X_train.select_dtypes(include=['object']).columns)\n",
    "    ]\n",
    ")\n",
    "\n",
    "\n",
    "pipeline = Pipeline(steps=[\n",
    "    ('preprocessor', preprocessor),\n",
    "    ('svd', TruncatedSVD(n_components=12)),\n",
    "    ('classifier', XGBClassifier(use_label_encoder=False, eval_metric='logloss'))  # XGBoost model\n",
    "])\n",
    "\n",
    "pipeline.fit(X_train, y_train)\n",
    "\n",
    "\n",
    "y_pred = pipeline.predict(X_test)\n",
    "\n",
    "print(\"Accuracy:\", accuracy_score(y_test, y_pred))\n",
    "print(\"Classification Report:\")\n",
    "print(classification_report(y_test, y_pred))\n"
   ]
  },
  {
   "cell_type": "markdown",
   "metadata": {},
   "source": []
  }
 ],
 "metadata": {
  "kernelspec": {
   "display_name": "Python 3",
   "language": "python",
   "name": "python3"
  },
  "language_info": {
   "codemirror_mode": {
    "name": "ipython",
    "version": 3
   },
   "file_extension": ".py",
   "mimetype": "text/x-python",
   "name": "python",
   "nbconvert_exporter": "python",
   "pygments_lexer": "ipython3",
   "version": "3.12.3"
  }
 },
 "nbformat": 4,
 "nbformat_minor": 2
}
